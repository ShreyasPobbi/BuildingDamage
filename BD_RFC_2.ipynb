{
 "cells": [
  {
   "cell_type": "code",
   "execution_count": 1,
   "metadata": {},
   "outputs": [
    {
     "name": "stdout",
     "output_type": "stream",
     "text": [
      "Using matplotlib backend: MacOSX\n"
     ]
    }
   ],
   "source": [
    "import pandas as pd\n",
    "import numpy as np\n",
    "import matplotlib.pyplot as plt\n",
    "from sklearn.tree import DecisionTreeClassifier\n",
    "from sklearn.model_selection import cross_val_score, GridSearchCV\n",
    "from scipy.stats import mode\n",
    "import csv\n",
    "# import modelvis\n",
    "from sklearn.ensemble import RandomForestClassifier\n",
    "%matplotlib"
   ]
  },
  {
   "cell_type": "markdown",
   "metadata": {},
   "source": [
    "## Frame \n",
    "Given building details, your task is to build a model that can predict the extent of damage that has been done to a building after an earthquake."
   ]
  },
  {
   "cell_type": "markdown",
   "metadata": {},
   "source": [
    "## ACQUIRE\n",
    "train.csv, test.csv, building_ownership_usage.csv, building_structure.csv, sample_submission.csv"
   ]
  },
  {
   "cell_type": "code",
   "execution_count": 2,
   "metadata": {},
   "outputs": [],
   "source": [
    "df_bd = pd.read_csv('/Users/shreyaspr/Desktop/building_damage/train.csv')\n",
    "df_bo = pd.read_csv('/Users/shreyaspr/Desktop/building_damage/Building_Ownership_Use.csv')\n",
    "df_str = pd.read_csv('/Users/shreyaspr/Desktop/building_damage/building_structure.csv')\n",
    "\n",
    "result = pd.merge(df_str, df_bo, on='building_id')\n",
    "df = pd.merge(df_bd,result,on=\"building_id\")"
   ]
  },
  {
   "cell_type": "code",
   "execution_count": 3,
   "metadata": {},
   "outputs": [],
   "source": [
    "df_test = pd.read_csv('/Users/shreyaspr/Desktop/building_damage/test.csv')\n",
    "df_test = pd.merge(df_test,result,on=\"building_id\")"
   ]
  },
  {
   "cell_type": "code",
   "execution_count": null,
   "metadata": {},
   "outputs": [],
   "source": []
  },
  {
   "cell_type": "code",
   "execution_count": 4,
   "metadata": {},
   "outputs": [
    {
     "data": {
      "text/plain": [
       "(631761, 58)"
      ]
     },
     "execution_count": 4,
     "metadata": {},
     "output_type": "execute_result"
    }
   ],
   "source": [
    "df.shape\n",
    "#58 because it has the grade_damage which is predicted data to trrain the classifier"
   ]
  },
  {
   "cell_type": "code",
   "execution_count": 5,
   "metadata": {},
   "outputs": [
    {
     "data": {
      "text/plain": [
       "(421175, 57)"
      ]
     },
     "execution_count": 5,
     "metadata": {},
     "output_type": "execute_result"
    }
   ],
   "source": [
    "df_test.shape"
   ]
  },
  {
   "cell_type": "code",
   "execution_count": null,
   "metadata": {},
   "outputs": [],
   "source": []
  },
  {
   "cell_type": "markdown",
   "metadata": {},
   "source": [
    "## REFINE\n",
    "Refine the data aquired damage_grade"
   ]
  },
  {
   "cell_type": "code",
   "execution_count": 6,
   "metadata": {},
   "outputs": [],
   "source": [
    "grade = {'Grade 5': 5, 'Grade 4': 4, 'Grade 3': 3, 'Grade 2': 2, 'Grade 1': 1}\n",
    "area = {'Both': 0, 'Building removed': 1, 'Exterior': 2, 'Not able to inspect': 3, 'Interior': 4}\n",
    "land = {'Flat': 0, 'Moderate slope': 1, 'Steep slope': 2}\n",
    "foundation = {'Mud mortar-Stone/Brick': 0, 'Bamboo/Timber': 1, 'Cement-Stone/Brick': 2, 'RC': 3, 'Other': 4}\n",
    "roof = {'Bamboo/Timber-Light roof':0, 'Bamboo/Timber-Heavy roof':1, 'RCC/RB/RBC': 3}\n",
    "grnd_floor = {'Mud':0, 'Brick/Stone':1, 'RC':2, 'Timber':3, 'Other':4}\n",
    "other_floor = {'TImber/Bamboo-Mud': 0, 'Timber-Planck':1, 'Not applicable':2, 'RCC/RB/RBC':3}\n",
    "pos = {'Not attached':0, 'Attached-1 side':1, 'Attached-2 side':2, 'Attached-3 side':3}\n",
    "plan = {'Rectangular':0, 'Square':1, 'L-shape':2, 'Multi-projected':3, 'T-shape':4, 'Others':5, 'U-shape':6, 'Building with Central Courtyard':7, \n",
    "        'E-shape':8, 'H-shape':9}\n",
    "condition = {'Damaged-Not used':0, 'Damaged-Repaired and used':1, 'Damaged-Used in risk':2, 'Damaged-Rubble unclear':3, 'Damaged-Rubble clear':4, \n",
    "             'Not damaged':5, 'Damaged-Rubble Clear-New building built':6, 'Covered by landslide':7}\n",
    "legal = {'Private':0, 'Public':1, 'Institutional': 2, 'Other':3}"
   ]
  },
  {
   "cell_type": "code",
   "execution_count": 7,
   "metadata": {},
   "outputs": [],
   "source": [
    "df.area_assesed = df.area_assesed.map(area.get)\n",
    "df.land_surface_condition = df.land_surface_condition.map(land.get)\n",
    "df.foundation_type = df.foundation_type.map(foundation.get)\n",
    "df.roof_type = df.roof_type.map(roof.get)\n",
    "df.ground_floor_type = df.ground_floor_type.map(grnd_floor.get)\n",
    "df.other_floor_type = df.other_floor_type.map(other_floor.get)\n",
    "df.position = df.position.map(pos.get)\n",
    "df.plan_configuration = df.plan_configuration.map(plan.get)\n",
    "df.condition_post_eq = df.condition_post_eq.map(condition.get)\n",
    "df.legal_ownership_status = df.legal_ownership_status.map(legal.get)\n",
    "\n",
    "df.damage_grade = df.damage_grade.map(grade.get)"
   ]
  },
  {
   "cell_type": "code",
   "execution_count": 8,
   "metadata": {},
   "outputs": [
    {
     "data": {
      "text/plain": [
       "area_assesed                                int64\n",
       "building_id                                object\n",
       "damage_grade                                int64\n",
       "district_id                                 int64\n",
       "has_geotechnical_risk                     float64\n",
       "has_geotechnical_risk_fault_crack           int64\n",
       "has_geotechnical_risk_flood                 int64\n",
       "has_geotechnical_risk_land_settlement       int64\n",
       "has_geotechnical_risk_landslide             int64\n",
       "has_geotechnical_risk_liquefaction          int64\n",
       "has_geotechnical_risk_other                 int64\n",
       "has_geotechnical_risk_rock_fall             int64\n",
       "has_repair_started                        float64\n",
       "vdcmun_id                                   int64\n",
       "district_id_x                               int64\n",
       "vdcmun_id_x                                 int64\n",
       "ward_id_x                                   int64\n",
       "count_floors_pre_eq                         int64\n",
       "count_floors_post_eq                        int64\n",
       "age_building                                int64\n",
       "plinth_area_sq_ft                           int64\n",
       "height_ft_pre_eq                            int64\n",
       "height_ft_post_eq                           int64\n",
       "land_surface_condition                      int64\n",
       "foundation_type                             int64\n",
       "roof_type                                   int64\n",
       "ground_floor_type                           int64\n",
       "other_floor_type                            int64\n",
       "position                                    int64\n",
       "plan_configuration                          int64\n",
       "has_superstructure_adobe_mud                int64\n",
       "has_superstructure_mud_mortar_stone         int64\n",
       "has_superstructure_stone_flag               int64\n",
       "has_superstructure_cement_mortar_stone      int64\n",
       "has_superstructure_mud_mortar_brick         int64\n",
       "has_superstructure_cement_mortar_brick      int64\n",
       "has_superstructure_timber                   int64\n",
       "has_superstructure_bamboo                   int64\n",
       "has_superstructure_rc_non_engineered        int64\n",
       "has_superstructure_rc_engineered            int64\n",
       "has_superstructure_other                    int64\n",
       "condition_post_eq                           int64\n",
       "district_id_y                               int64\n",
       "vdcmun_id_y                                 int64\n",
       "ward_id_y                                   int64\n",
       "legal_ownership_status                      int64\n",
       "count_families                            float64\n",
       "has_secondary_use                         float64\n",
       "has_secondary_use_agriculture               int64\n",
       "has_secondary_use_hotel                     int64\n",
       "has_secondary_use_rental                    int64\n",
       "has_secondary_use_institution               int64\n",
       "has_secondary_use_school                    int64\n",
       "has_secondary_use_industry                  int64\n",
       "has_secondary_use_health_post               int64\n",
       "has_secondary_use_gov_office                int64\n",
       "has_secondary_use_use_police                int64\n",
       "has_secondary_use_other                     int64\n",
       "dtype: object"
      ]
     },
     "execution_count": 8,
     "metadata": {},
     "output_type": "execute_result"
    }
   ],
   "source": [
    "df.dtypes"
   ]
  },
  {
   "cell_type": "code",
   "execution_count": 10,
   "metadata": {},
   "outputs": [],
   "source": [
    "df.count_families.fillna(0, inplace=True)"
   ]
  },
  {
   "cell_type": "code",
   "execution_count": 22,
   "metadata": {},
   "outputs": [
    {
     "data": {
      "text/plain": [
       "area_assesed                                  0\n",
       "building_id                                   0\n",
       "damage_grade                                  0\n",
       "district_id                                   0\n",
       "has_geotechnical_risk                         0\n",
       "has_geotechnical_risk_fault_crack             0\n",
       "has_geotechnical_risk_flood                   0\n",
       "has_geotechnical_risk_land_settlement         0\n",
       "has_geotechnical_risk_landslide               0\n",
       "has_geotechnical_risk_liquefaction            0\n",
       "has_geotechnical_risk_other                   0\n",
       "has_geotechnical_risk_rock_fall               0\n",
       "has_repair_started                        33417\n",
       "vdcmun_id                                     0\n",
       "district_id_x                                 0\n",
       "vdcmun_id_x                                   0\n",
       "ward_id_x                                     0\n",
       "count_floors_pre_eq                           0\n",
       "count_floors_post_eq                          0\n",
       "age_building                                  0\n",
       "plinth_area_sq_ft                             0\n",
       "height_ft_pre_eq                              0\n",
       "height_ft_post_eq                             0\n",
       "land_surface_condition                        0\n",
       "foundation_type                               0\n",
       "roof_type                                     0\n",
       "ground_floor_type                             0\n",
       "other_floor_type                              0\n",
       "position                                      0\n",
       "plan_configuration                            0\n",
       "has_superstructure_adobe_mud                  0\n",
       "has_superstructure_mud_mortar_stone           0\n",
       "has_superstructure_stone_flag                 0\n",
       "has_superstructure_cement_mortar_stone        0\n",
       "has_superstructure_mud_mortar_brick           0\n",
       "has_superstructure_cement_mortar_brick        0\n",
       "has_superstructure_timber                     0\n",
       "has_superstructure_bamboo                     0\n",
       "has_superstructure_rc_non_engineered          0\n",
       "has_superstructure_rc_engineered              0\n",
       "has_superstructure_other                      0\n",
       "condition_post_eq                             0\n",
       "district_id_y                                 0\n",
       "vdcmun_id_y                                   0\n",
       "ward_id_y                                     0\n",
       "legal_ownership_status                        0\n",
       "count_families                                0\n",
       "has_secondary_use                             0\n",
       "has_secondary_use_agriculture                 0\n",
       "has_secondary_use_hotel                       0\n",
       "has_secondary_use_rental                      0\n",
       "has_secondary_use_institution                 0\n",
       "has_secondary_use_school                      0\n",
       "has_secondary_use_industry                    0\n",
       "has_secondary_use_health_post                 0\n",
       "has_secondary_use_gov_office                  0\n",
       "has_secondary_use_use_police                  0\n",
       "has_secondary_use_other                       0\n",
       "dtype: int64"
      ]
     },
     "execution_count": 22,
     "metadata": {},
     "output_type": "execute_result"
    }
   ],
   "source": [
    "df.isnull().sum()"
   ]
  },
  {
   "cell_type": "markdown",
   "metadata": {},
   "source": [
    "## Exploration\n",
    "Exploring the best way to define the \"has_repair_started\" null values"
   ]
  },
  {
   "cell_type": "code",
   "execution_count": 12,
   "metadata": {},
   "outputs": [
    {
     "data": {
      "text/plain": [
       "0    609742\n",
       "1     22019\n",
       "Name: has_geotechnical_risk_rock_fall, dtype: int64"
      ]
     },
     "execution_count": 12,
     "metadata": {},
     "output_type": "execute_result"
    }
   ],
   "source": [
    "df.has_geotechnical_risk_rock_fall.value_counts()"
   ]
  },
  {
   "cell_type": "code",
   "execution_count": 35,
   "metadata": {},
   "outputs": [
    {
     "name": "stderr",
     "output_type": "stream",
     "text": [
      "/anaconda3/lib/python3.6/site-packages/ipykernel_launcher.py:1: SettingWithCopyWarning: \n",
      "A value is trying to be set on a copy of a slice from a DataFrame\n",
      "\n",
      "See the caveats in the documentation: http://pandas.pydata.org/pandas-docs/stable/indexing.html#indexing-view-versus-copy\n",
      "  \"\"\"Entry point for launching an IPython kernel.\n"
     ]
    }
   ],
   "source": [
    "df.has_repair_started[df.has_secondary_use_institution == 1] = 1"
   ]
  },
  {
   "cell_type": "code",
   "execution_count": null,
   "metadata": {},
   "outputs": [],
   "source": [
    "df.has_repair_started[df.has_secondary_use_school == 1] = 1\n",
    "df.has_repair_started[df.has_secondary_use_health_post == 1] = 1"
   ]
  },
  {
   "cell_type": "code",
   "execution_count": 36,
   "metadata": {},
   "outputs": [
    {
     "data": {
      "text/plain": [
       "2459    1.0\n",
       "Name: has_repair_started, dtype: float64"
      ]
     },
     "execution_count": 36,
     "metadata": {},
     "output_type": "execute_result"
    }
   ],
   "source": [
    "df.has_repair_started[df.has_secondary_use_institution == 1].head(1)"
   ]
  },
  {
   "cell_type": "code",
   "execution_count": 34,
   "metadata": {},
   "outputs": [
    {
     "data": {
      "text/plain": [
       "area_assesed                                        0\n",
       "building_id                               121a7c14acd\n",
       "damage_grade                                        1\n",
       "district_id                                        12\n",
       "has_geotechnical_risk                               0\n",
       "has_geotechnical_risk_fault_crack                   0\n",
       "has_geotechnical_risk_flood                         0\n",
       "has_geotechnical_risk_land_settlement               0\n",
       "has_geotechnical_risk_landslide                     0\n",
       "has_geotechnical_risk_liquefaction                  0\n",
       "has_geotechnical_risk_other                         0\n",
       "has_geotechnical_risk_rock_fall                     0\n",
       "has_repair_started                                  0\n",
       "vdcmun_id                                        1244\n",
       "district_id_x                                      12\n",
       "vdcmun_id_x                                      1244\n",
       "ward_id_x                                      124406\n",
       "count_floors_pre_eq                                 2\n",
       "count_floors_post_eq                                2\n",
       "age_building                                       12\n",
       "plinth_area_sq_ft                                 460\n",
       "height_ft_pre_eq                                   14\n",
       "height_ft_post_eq                                  14\n",
       "land_surface_condition                              0\n",
       "foundation_type                                     0\n",
       "roof_type                                           0\n",
       "ground_floor_type                                   0\n",
       "other_floor_type                                    0\n",
       "position                                            0\n",
       "plan_configuration                                  0\n",
       "has_superstructure_adobe_mud                        1\n",
       "has_superstructure_mud_mortar_stone                 0\n",
       "has_superstructure_stone_flag                       0\n",
       "has_superstructure_cement_mortar_stone              0\n",
       "has_superstructure_mud_mortar_brick                 0\n",
       "has_superstructure_cement_mortar_brick              0\n",
       "has_superstructure_timber                           0\n",
       "has_superstructure_bamboo                           0\n",
       "has_superstructure_rc_non_engineered                0\n",
       "has_superstructure_rc_engineered                    0\n",
       "has_superstructure_other                            0\n",
       "condition_post_eq                                   5\n",
       "district_id_y                                      12\n",
       "vdcmun_id_y                                      1244\n",
       "ward_id_y                                      124406\n",
       "legal_ownership_status                              0\n",
       "count_families                                      1\n",
       "has_secondary_use                                   1\n",
       "has_secondary_use_agriculture                       0\n",
       "has_secondary_use_hotel                             0\n",
       "has_secondary_use_rental                            0\n",
       "has_secondary_use_institution                       1\n",
       "has_secondary_use_school                            0\n",
       "has_secondary_use_industry                          0\n",
       "has_secondary_use_health_post                       0\n",
       "has_secondary_use_gov_office                        0\n",
       "has_secondary_use_use_police                        0\n",
       "has_secondary_use_other                             0\n",
       "Name: 2459, dtype: object"
      ]
     },
     "execution_count": 34,
     "metadata": {},
     "output_type": "execute_result"
    }
   ],
   "source": [
    "df.iloc[2459]"
   ]
  },
  {
   "cell_type": "code",
   "execution_count": null,
   "metadata": {},
   "outputs": [],
   "source": []
  }
 ],
 "metadata": {
  "kernelspec": {
   "display_name": "Python 3",
   "language": "python",
   "name": "python3"
  },
  "language_info": {
   "codemirror_mode": {
    "name": "ipython",
    "version": 3
   },
   "file_extension": ".py",
   "mimetype": "text/x-python",
   "name": "python",
   "nbconvert_exporter": "python",
   "pygments_lexer": "ipython3",
   "version": "3.6.5"
  }
 },
 "nbformat": 4,
 "nbformat_minor": 2
}
