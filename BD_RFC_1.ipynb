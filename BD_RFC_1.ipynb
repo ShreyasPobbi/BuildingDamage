{
 "cells": [
  {
   "cell_type": "code",
   "execution_count": 1,
   "metadata": {},
   "outputs": [
    {
     "name": "stdout",
     "output_type": "stream",
     "text": [
      "Using matplotlib backend: MacOSX\n"
     ]
    }
   ],
   "source": [
    "import pandas as pd\n",
    "import numpy as np\n",
    "import matplotlib.pyplot as plt\n",
    "from sklearn.tree import DecisionTreeClassifier\n",
    "from sklearn.model_selection import cross_val_score, GridSearchCV\n",
    "from scipy.stats import mode\n",
    "import csv\n",
    "# import modelvis\n",
    "from sklearn.ensemble import RandomForestClassifier\n",
    "%matplotlib"
   ]
  },
  {
   "cell_type": "markdown",
   "metadata": {},
   "source": [
    "## Frame \n",
    "Given building details, your task is to build a model that can predict the extent of damage that has been done to a building after an earthquake."
   ]
  },
  {
   "cell_type": "markdown",
   "metadata": {},
   "source": [
    "## ACQUIRE\n",
    "train.csv, test.csv, building_ownership_usage.csv, building_structure.csv, sample_submission.csv"
   ]
  },
  {
   "cell_type": "code",
   "execution_count": 98,
   "metadata": {},
   "outputs": [],
   "source": [
    "df_bd = pd.read_csv('/Users/shreyaspr/Desktop/building_damage/train.csv')\n",
    "df_bo = pd.read_csv('/Users/shreyaspr/Desktop/building_damage/Building_Ownership_Use.csv')\n",
    "df_str = pd.read_csv('/Users/shreyaspr/Desktop/building_damage/building_structure.csv')\n",
    "\n",
    "result = pd.merge(df_str, df_bo, on='building_id')\n",
    "df = pd.merge(df_bd,result,on=\"building_id\")"
   ]
  },
  {
   "cell_type": "code",
   "execution_count": 99,
   "metadata": {},
   "outputs": [],
   "source": [
    "df_test = pd.read_csv('/Users/shreyaspr/Desktop/building_damage/test.csv')\n",
    "df_test = pd.merge(df_test,result,on=\"building_id\")"
   ]
  },
  {
   "cell_type": "code",
   "execution_count": null,
   "metadata": {},
   "outputs": [],
   "source": []
  },
  {
   "cell_type": "code",
   "execution_count": 100,
   "metadata": {},
   "outputs": [
    {
     "data": {
      "text/plain": [
       "(631761, 58)"
      ]
     },
     "execution_count": 100,
     "metadata": {},
     "output_type": "execute_result"
    }
   ],
   "source": [
    "df.shape\n",
    "#58 because it has the grade_damage which is predicted data to trrain the classifier"
   ]
  },
  {
   "cell_type": "code",
   "execution_count": 101,
   "metadata": {},
   "outputs": [
    {
     "data": {
      "text/plain": [
       "(421175, 57)"
      ]
     },
     "execution_count": 101,
     "metadata": {},
     "output_type": "execute_result"
    }
   ],
   "source": [
    "df_test.shape"
   ]
  },
  {
   "cell_type": "markdown",
   "metadata": {},
   "source": [
    "## REFINE\n",
    "Refine the data aquired damage_grade"
   ]
  },
  {
   "cell_type": "code",
   "execution_count": 102,
   "metadata": {},
   "outputs": [
    {
     "data": {
      "text/plain": [
       "area_assesed                               object\n",
       "building_id                                object\n",
       "damage_grade                               object\n",
       "district_id                                 int64\n",
       "has_geotechnical_risk                     float64\n",
       "has_geotechnical_risk_fault_crack           int64\n",
       "has_geotechnical_risk_flood                 int64\n",
       "has_geotechnical_risk_land_settlement       int64\n",
       "has_geotechnical_risk_landslide             int64\n",
       "has_geotechnical_risk_liquefaction          int64\n",
       "has_geotechnical_risk_other                 int64\n",
       "has_geotechnical_risk_rock_fall             int64\n",
       "has_repair_started                        float64\n",
       "vdcmun_id                                   int64\n",
       "district_id_x                               int64\n",
       "vdcmun_id_x                                 int64\n",
       "ward_id_x                                   int64\n",
       "count_floors_pre_eq                         int64\n",
       "count_floors_post_eq                        int64\n",
       "age_building                                int64\n",
       "plinth_area_sq_ft                           int64\n",
       "height_ft_pre_eq                            int64\n",
       "height_ft_post_eq                           int64\n",
       "land_surface_condition                     object\n",
       "foundation_type                            object\n",
       "roof_type                                  object\n",
       "ground_floor_type                          object\n",
       "other_floor_type                           object\n",
       "position                                   object\n",
       "plan_configuration                         object\n",
       "has_superstructure_adobe_mud                int64\n",
       "has_superstructure_mud_mortar_stone         int64\n",
       "has_superstructure_stone_flag               int64\n",
       "has_superstructure_cement_mortar_stone      int64\n",
       "has_superstructure_mud_mortar_brick         int64\n",
       "has_superstructure_cement_mortar_brick      int64\n",
       "has_superstructure_timber                   int64\n",
       "has_superstructure_bamboo                   int64\n",
       "has_superstructure_rc_non_engineered        int64\n",
       "has_superstructure_rc_engineered            int64\n",
       "has_superstructure_other                    int64\n",
       "condition_post_eq                          object\n",
       "district_id_y                               int64\n",
       "vdcmun_id_y                                 int64\n",
       "ward_id_y                                   int64\n",
       "legal_ownership_status                     object\n",
       "count_families                            float64\n",
       "has_secondary_use                         float64\n",
       "has_secondary_use_agriculture               int64\n",
       "has_secondary_use_hotel                     int64\n",
       "has_secondary_use_rental                    int64\n",
       "has_secondary_use_institution               int64\n",
       "has_secondary_use_school                    int64\n",
       "has_secondary_use_industry                  int64\n",
       "has_secondary_use_health_post               int64\n",
       "has_secondary_use_gov_office                int64\n",
       "has_secondary_use_use_police                int64\n",
       "has_secondary_use_other                     int64\n",
       "dtype: object"
      ]
     },
     "execution_count": 102,
     "metadata": {},
     "output_type": "execute_result"
    }
   ],
   "source": [
    "df.dtypes"
   ]
  },
  {
   "cell_type": "code",
   "execution_count": 103,
   "metadata": {},
   "outputs": [],
   "source": [
    "grade = {'Grade 5': 5, 'Grade 4': 4, 'Grade 3': 3, 'Grade 2': 2, 'Grade 1': 1}\n",
    "area = {'Both': 0, 'Building removed': 1, 'Exterior': 2, 'Not able to inspect': 3, 'Interior': 4}\n",
    "land = {'Flat': 0, 'Moderate slope': 1, 'Steep slope': 2}\n",
    "foundation = {'Mud mortar-Stone/Brick': 0, 'Bamboo/Timber': 1, 'Cement-Stone/Brick': 2, 'RC': 3, 'Other': 4}\n",
    "roof = {'Bamboo/Timber-Light roof':0, 'Bamboo/Timber-Heavy roof':1, 'RCC/RB/RBC': 3}\n",
    "grnd_floor = {'Mud':0, 'Brick/Stone':1, 'RC':2, 'Timber':3, 'Other':4}\n",
    "other_floor = {'TImber/Bamboo-Mud': 0, 'Timber-Planck':1, 'Not applicable':2, 'RCC/RB/RBC':3}\n",
    "pos = {'Not attached':0, 'Attached-1 side':1, 'Attached-2 side':2, 'Attached-3 side':3}\n",
    "plan = {'Rectangular':0, 'Square':1, 'L-shape':2, 'Multi-projected':3, 'T-shape':4, 'Others':5, 'U-shape':6, 'Building with Central Courtyard':7, \n",
    "        'E-shape':8, 'H-shape':9}\n",
    "condition = {'Damaged-Not used':0, 'Damaged-Repaired and used':1, 'Damaged-Used in risk':2, 'Damaged-Rubble unclear':3, 'Damaged-Rubble clear':4, \n",
    "             'Not damaged':5, 'Damaged-Rubble Clear-New building built':6, 'Covered by landslide':7}\n",
    "legal = {'Private':0, 'Public':1, 'Institutional': 2, 'Other':3}"
   ]
  },
  {
   "cell_type": "code",
   "execution_count": 104,
   "metadata": {},
   "outputs": [],
   "source": [
    "df.area_assesed = df.area_assesed.map(area.get)\n",
    "df.land_surface_condition = df.land_surface_condition.map(land.get)\n",
    "df.foundation_type = df.foundation_type.map(foundation.get)\n",
    "df.roof_type = df.roof_type.map(roof.get)\n",
    "df.ground_floor_type = df.ground_floor_type.map(grnd_floor.get)\n",
    "df.other_floor_type = df.other_floor_type.map(other_floor.get)\n",
    "df.position = df.position.map(pos.get)\n",
    "df.plan_configuration = df.plan_configuration.map(plan.get)\n",
    "df.condition_post_eq = df.condition_post_eq.map(condition.get)\n",
    "df.legal_ownership_status = df.legal_ownership_status.map(legal.get)\n",
    "\n",
    "df.damage_grade = df.damage_grade.map(grade.get)"
   ]
  },
  {
   "cell_type": "code",
   "execution_count": 109,
   "metadata": {},
   "outputs": [
    {
     "data": {
      "text/plain": [
       "area_assesed                              0\n",
       "building_id                               0\n",
       "damage_grade                              0\n",
       "district_id                               0\n",
       "has_geotechnical_risk                     0\n",
       "has_geotechnical_risk_fault_crack         0\n",
       "has_geotechnical_risk_flood               0\n",
       "has_geotechnical_risk_land_settlement     0\n",
       "has_geotechnical_risk_landslide           0\n",
       "has_geotechnical_risk_liquefaction        0\n",
       "has_geotechnical_risk_other               0\n",
       "has_geotechnical_risk_rock_fall           0\n",
       "has_repair_started                        0\n",
       "vdcmun_id                                 0\n",
       "district_id_x                             0\n",
       "vdcmun_id_x                               0\n",
       "ward_id_x                                 0\n",
       "count_floors_pre_eq                       0\n",
       "count_floors_post_eq                      0\n",
       "age_building                              0\n",
       "plinth_area_sq_ft                         0\n",
       "height_ft_pre_eq                          0\n",
       "height_ft_post_eq                         0\n",
       "land_surface_condition                    0\n",
       "foundation_type                           0\n",
       "roof_type                                 0\n",
       "ground_floor_type                         0\n",
       "other_floor_type                          0\n",
       "position                                  0\n",
       "plan_configuration                        0\n",
       "has_superstructure_adobe_mud              0\n",
       "has_superstructure_mud_mortar_stone       0\n",
       "has_superstructure_stone_flag             0\n",
       "has_superstructure_cement_mortar_stone    0\n",
       "has_superstructure_mud_mortar_brick       0\n",
       "has_superstructure_cement_mortar_brick    0\n",
       "has_superstructure_timber                 0\n",
       "has_superstructure_bamboo                 0\n",
       "has_superstructure_rc_non_engineered      0\n",
       "has_superstructure_rc_engineered          0\n",
       "has_superstructure_other                  0\n",
       "condition_post_eq                         0\n",
       "district_id_y                             0\n",
       "vdcmun_id_y                               0\n",
       "ward_id_y                                 0\n",
       "legal_ownership_status                    0\n",
       "count_families                            0\n",
       "has_secondary_use                         0\n",
       "has_secondary_use_agriculture             0\n",
       "has_secondary_use_hotel                   0\n",
       "has_secondary_use_rental                  0\n",
       "has_secondary_use_institution             0\n",
       "has_secondary_use_school                  0\n",
       "has_secondary_use_industry                0\n",
       "has_secondary_use_health_post             0\n",
       "has_secondary_use_gov_office              0\n",
       "has_secondary_use_use_police              0\n",
       "has_secondary_use_other                   0\n",
       "dtype: int64"
      ]
     },
     "execution_count": 109,
     "metadata": {},
     "output_type": "execute_result"
    }
   ],
   "source": [
    "df.isnull().sum()"
   ]
  },
  {
   "cell_type": "code",
   "execution_count": 106,
   "metadata": {},
   "outputs": [],
   "source": [
    "df.count_families.fillna(0, inplace=True)"
   ]
  },
  {
   "cell_type": "code",
   "execution_count": 108,
   "metadata": {},
   "outputs": [],
   "source": [
    "df.has_repair_started.fillna(1, inplace=True)"
   ]
  },
  {
   "cell_type": "code",
   "execution_count": 111,
   "metadata": {},
   "outputs": [
    {
     "data": {
      "text/plain": [
       "area_assesed                                int64\n",
       "building_id                                object\n",
       "damage_grade                                int64\n",
       "district_id                                 int64\n",
       "has_geotechnical_risk                     float64\n",
       "has_geotechnical_risk_fault_crack           int64\n",
       "has_geotechnical_risk_flood                 int64\n",
       "has_geotechnical_risk_land_settlement       int64\n",
       "has_geotechnical_risk_landslide             int64\n",
       "has_geotechnical_risk_liquefaction          int64\n",
       "has_geotechnical_risk_other                 int64\n",
       "has_geotechnical_risk_rock_fall             int64\n",
       "has_repair_started                        float64\n",
       "vdcmun_id                                   int64\n",
       "district_id_x                               int64\n",
       "vdcmun_id_x                                 int64\n",
       "ward_id_x                                   int64\n",
       "count_floors_pre_eq                         int64\n",
       "count_floors_post_eq                        int64\n",
       "age_building                                int64\n",
       "plinth_area_sq_ft                           int64\n",
       "height_ft_pre_eq                            int64\n",
       "height_ft_post_eq                           int64\n",
       "land_surface_condition                      int64\n",
       "foundation_type                             int64\n",
       "roof_type                                   int64\n",
       "ground_floor_type                           int64\n",
       "other_floor_type                            int64\n",
       "position                                    int64\n",
       "plan_configuration                          int64\n",
       "has_superstructure_adobe_mud                int64\n",
       "has_superstructure_mud_mortar_stone         int64\n",
       "has_superstructure_stone_flag               int64\n",
       "has_superstructure_cement_mortar_stone      int64\n",
       "has_superstructure_mud_mortar_brick         int64\n",
       "has_superstructure_cement_mortar_brick      int64\n",
       "has_superstructure_timber                   int64\n",
       "has_superstructure_bamboo                   int64\n",
       "has_superstructure_rc_non_engineered        int64\n",
       "has_superstructure_rc_engineered            int64\n",
       "has_superstructure_other                    int64\n",
       "condition_post_eq                           int64\n",
       "district_id_y                               int64\n",
       "vdcmun_id_y                                 int64\n",
       "ward_id_y                                   int64\n",
       "legal_ownership_status                      int64\n",
       "count_families                            float64\n",
       "has_secondary_use                         float64\n",
       "has_secondary_use_agriculture               int64\n",
       "has_secondary_use_hotel                     int64\n",
       "has_secondary_use_rental                    int64\n",
       "has_secondary_use_institution               int64\n",
       "has_secondary_use_school                    int64\n",
       "has_secondary_use_industry                  int64\n",
       "has_secondary_use_health_post               int64\n",
       "has_secondary_use_gov_office                int64\n",
       "has_secondary_use_use_police                int64\n",
       "has_secondary_use_other                     int64\n",
       "dtype: object"
      ]
     },
     "execution_count": 111,
     "metadata": {},
     "output_type": "execute_result"
    }
   ],
   "source": [
    "df.dtypes"
   ]
  },
  {
   "cell_type": "markdown",
   "metadata": {},
   "source": [
    "## Exploration"
   ]
  },
  {
   "cell_type": "markdown",
   "metadata": {},
   "source": [
    "Exploring different and more efficient way to fil the empty value and improve the accuracy"
   ]
  },
  {
   "cell_type": "code",
   "execution_count": 12,
   "metadata": {},
   "outputs": [
    {
     "data": {
      "text/plain": [
       "0.0    409222\n",
       "1.0    189122\n",
       "Name: has_repair_started, dtype: int64"
      ]
     },
     "execution_count": 12,
     "metadata": {},
     "output_type": "execute_result"
    }
   ],
   "source": [
    "df.has_repair_started.value_counts()"
   ]
  },
  {
   "cell_type": "code",
   "execution_count": 13,
   "metadata": {},
   "outputs": [
    {
     "data": {
      "text/plain": [
       "0    0.0\n",
       "1    1.0\n",
       "2    0.0\n",
       "3    0.0\n",
       "4    0.0\n",
       "Name: has_repair_started, dtype: float64"
      ]
     },
     "execution_count": 13,
     "metadata": {},
     "output_type": "execute_result"
    }
   ],
   "source": [
    "df.has_repair_started.head(5)"
   ]
  },
  {
   "cell_type": "markdown",
   "metadata": {},
   "source": [
    "#### Lets take has_repair_started as Y and remaining values as X and try predicting the na values"
   ]
  },
  {
   "cell_type": "code",
   "execution_count": 14,
   "metadata": {},
   "outputs": [
    {
     "data": {
      "text/plain": [
       "Index(['area_assesed', 'building_id', 'damage_grade', 'district_id',\n",
       "       'has_geotechnical_risk', 'has_geotechnical_risk_fault_crack',\n",
       "       'has_geotechnical_risk_flood', 'has_geotechnical_risk_land_settlement',\n",
       "       'has_geotechnical_risk_landslide', 'has_geotechnical_risk_liquefaction',\n",
       "       'has_geotechnical_risk_other', 'has_geotechnical_risk_rock_fall',\n",
       "       'has_repair_started', 'vdcmun_id', 'district_id_x', 'vdcmun_id_x',\n",
       "       'ward_id_x', 'count_floors_pre_eq', 'count_floors_post_eq',\n",
       "       'age_building', 'plinth_area_sq_ft', 'height_ft_pre_eq',\n",
       "       'height_ft_post_eq', 'land_surface_condition', 'foundation_type',\n",
       "       'roof_type', 'ground_floor_type', 'other_floor_type', 'position',\n",
       "       'plan_configuration', 'has_superstructure_adobe_mud',\n",
       "       'has_superstructure_mud_mortar_stone', 'has_superstructure_stone_flag',\n",
       "       'has_superstructure_cement_mortar_stone',\n",
       "       'has_superstructure_mud_mortar_brick',\n",
       "       'has_superstructure_cement_mortar_brick', 'has_superstructure_timber',\n",
       "       'has_superstructure_bamboo', 'has_superstructure_rc_non_engineered',\n",
       "       'has_superstructure_rc_engineered', 'has_superstructure_other',\n",
       "       'condition_post_eq', 'district_id_y', 'vdcmun_id_y', 'ward_id_y',\n",
       "       'legal_ownership_status', 'count_families', 'has_secondary_use',\n",
       "       'has_secondary_use_agriculture', 'has_secondary_use_hotel',\n",
       "       'has_secondary_use_rental', 'has_secondary_use_institution',\n",
       "       'has_secondary_use_school', 'has_secondary_use_industry',\n",
       "       'has_secondary_use_health_post', 'has_secondary_use_gov_office',\n",
       "       'has_secondary_use_use_police', 'has_secondary_use_other'],\n",
       "      dtype='object')"
      ]
     },
     "execution_count": 14,
     "metadata": {},
     "output_type": "execute_result"
    }
   ],
   "source": [
    "df.columns"
   ]
  },
  {
   "cell_type": "code",
   "execution_count": 110,
   "metadata": {},
   "outputs": [
    {
     "data": {
      "text/plain": [
       "Index(['area_assesed', 'building_id', 'damage_grade', 'district_id',\n",
       "       'has_geotechnical_risk', 'has_geotechnical_risk_fault_crack',\n",
       "       'has_geotechnical_risk_flood', 'has_geotechnical_risk_land_settlement',\n",
       "       'has_geotechnical_risk_landslide', 'has_geotechnical_risk_liquefaction',\n",
       "       'has_geotechnical_risk_other', 'has_geotechnical_risk_rock_fall',\n",
       "       'has_repair_started', 'vdcmun_id', 'district_id_x', 'vdcmun_id_x',\n",
       "       'ward_id_x', 'count_floors_pre_eq', 'count_floors_post_eq',\n",
       "       'age_building', 'plinth_area_sq_ft', 'height_ft_pre_eq',\n",
       "       'height_ft_post_eq', 'land_surface_condition', 'foundation_type',\n",
       "       'roof_type', 'ground_floor_type', 'other_floor_type', 'position',\n",
       "       'plan_configuration', 'has_superstructure_adobe_mud',\n",
       "       'has_superstructure_mud_mortar_stone', 'has_superstructure_stone_flag',\n",
       "       'has_superstructure_cement_mortar_stone',\n",
       "       'has_superstructure_mud_mortar_brick',\n",
       "       'has_superstructure_cement_mortar_brick', 'has_superstructure_timber',\n",
       "       'has_superstructure_bamboo', 'has_superstructure_rc_non_engineered',\n",
       "       'has_superstructure_rc_engineered', 'has_superstructure_other',\n",
       "       'condition_post_eq', 'district_id_y', 'vdcmun_id_y', 'ward_id_y',\n",
       "       'legal_ownership_status', 'count_families', 'has_secondary_use',\n",
       "       'has_secondary_use_agriculture', 'has_secondary_use_hotel',\n",
       "       'has_secondary_use_rental', 'has_secondary_use_institution',\n",
       "       'has_secondary_use_school', 'has_secondary_use_industry',\n",
       "       'has_secondary_use_health_post', 'has_secondary_use_gov_office',\n",
       "       'has_secondary_use_use_police', 'has_secondary_use_other'],\n",
       "      dtype='object')"
      ]
     },
     "execution_count": 110,
     "metadata": {},
     "output_type": "execute_result"
    }
   ],
   "source": [
    "#X_repaired.count_families = X_repaired.count_families.fillna(0, inplace=True)\n",
    "df.columns"
   ]
  },
  {
   "cell_type": "code",
   "execution_count": 112,
   "metadata": {},
   "outputs": [],
   "source": [
    "X = df[['area_assesed', 'damage_grade', 'district_id',\n",
    "       'has_geotechnical_risk', 'has_geotechnical_risk_fault_crack',\n",
    "       'has_geotechnical_risk_flood', 'has_geotechnical_risk_land_settlement',\n",
    "       'has_geotechnical_risk_landslide', 'has_geotechnical_risk_liquefaction',\n",
    "       'has_geotechnical_risk_other', 'has_geotechnical_risk_rock_fall',\n",
    "       'has_repair_started', 'vdcmun_id', 'district_id_x', 'vdcmun_id_x',\n",
    "       'ward_id_x', 'count_floors_pre_eq', 'count_floors_post_eq',\n",
    "       'age_building', 'plinth_area_sq_ft', 'height_ft_pre_eq',\n",
    "       'height_ft_post_eq', 'land_surface_condition', 'foundation_type',\n",
    "       'roof_type', 'ground_floor_type', 'other_floor_type', 'position',\n",
    "       'plan_configuration', 'has_superstructure_adobe_mud',\n",
    "       'has_superstructure_mud_mortar_stone', 'has_superstructure_stone_flag',\n",
    "       'has_superstructure_cement_mortar_stone',\n",
    "       'has_superstructure_mud_mortar_brick',\n",
    "       'has_superstructure_cement_mortar_brick', 'has_superstructure_timber',\n",
    "       'has_superstructure_bamboo', 'has_superstructure_rc_non_engineered',\n",
    "       'has_superstructure_rc_engineered', 'has_superstructure_other',\n",
    "       'condition_post_eq', 'district_id_y', 'vdcmun_id_y', 'ward_id_y',\n",
    "       'legal_ownership_status', 'count_families', 'has_secondary_use',\n",
    "       'has_secondary_use_agriculture', 'has_secondary_use_hotel',\n",
    "       'has_secondary_use_rental', 'has_secondary_use_institution',\n",
    "       'has_secondary_use_school', 'has_secondary_use_industry',\n",
    "       'has_secondary_use_health_post', 'has_secondary_use_gov_office',\n",
    "       'has_secondary_use_use_police', 'has_secondary_use_other']]\n",
    "\n",
    "y = df.has_repair_started"
   ]
  },
  {
   "cell_type": "code",
   "execution_count": 113,
   "metadata": {},
   "outputs": [
    {
     "data": {
      "text/plain": [
       "area_assesed                              0\n",
       "damage_grade                              0\n",
       "district_id                               0\n",
       "has_geotechnical_risk                     0\n",
       "has_geotechnical_risk_fault_crack         0\n",
       "has_geotechnical_risk_flood               0\n",
       "has_geotechnical_risk_land_settlement     0\n",
       "has_geotechnical_risk_landslide           0\n",
       "has_geotechnical_risk_liquefaction        0\n",
       "has_geotechnical_risk_other               0\n",
       "has_geotechnical_risk_rock_fall           0\n",
       "has_repair_started                        0\n",
       "vdcmun_id                                 0\n",
       "district_id_x                             0\n",
       "vdcmun_id_x                               0\n",
       "ward_id_x                                 0\n",
       "count_floors_pre_eq                       0\n",
       "count_floors_post_eq                      0\n",
       "age_building                              0\n",
       "plinth_area_sq_ft                         0\n",
       "height_ft_pre_eq                          0\n",
       "height_ft_post_eq                         0\n",
       "land_surface_condition                    0\n",
       "foundation_type                           0\n",
       "roof_type                                 0\n",
       "ground_floor_type                         0\n",
       "other_floor_type                          0\n",
       "position                                  0\n",
       "plan_configuration                        0\n",
       "has_superstructure_adobe_mud              0\n",
       "has_superstructure_mud_mortar_stone       0\n",
       "has_superstructure_stone_flag             0\n",
       "has_superstructure_cement_mortar_stone    0\n",
       "has_superstructure_mud_mortar_brick       0\n",
       "has_superstructure_cement_mortar_brick    0\n",
       "has_superstructure_timber                 0\n",
       "has_superstructure_bamboo                 0\n",
       "has_superstructure_rc_non_engineered      0\n",
       "has_superstructure_rc_engineered          0\n",
       "has_superstructure_other                  0\n",
       "condition_post_eq                         0\n",
       "district_id_y                             0\n",
       "vdcmun_id_y                               0\n",
       "ward_id_y                                 0\n",
       "legal_ownership_status                    0\n",
       "count_families                            0\n",
       "has_secondary_use                         0\n",
       "has_secondary_use_agriculture             0\n",
       "has_secondary_use_hotel                   0\n",
       "has_secondary_use_rental                  0\n",
       "has_secondary_use_institution             0\n",
       "has_secondary_use_school                  0\n",
       "has_secondary_use_industry                0\n",
       "has_secondary_use_health_post             0\n",
       "has_secondary_use_gov_office              0\n",
       "has_secondary_use_use_police              0\n",
       "has_secondary_use_other                   0\n",
       "dtype: int64"
      ]
     },
     "execution_count": 113,
     "metadata": {},
     "output_type": "execute_result"
    }
   ],
   "source": [
    "X.isnull().sum()"
   ]
  },
  {
   "cell_type": "code",
   "execution_count": 114,
   "metadata": {},
   "outputs": [
    {
     "name": "stdout",
     "output_type": "stream",
     "text": [
      "[1. 1. 1. 1. 1.]\n"
     ]
    }
   ],
   "source": [
    "model = RandomForestClassifier(max_depth=19, n_estimators=100)\n",
    "model.fit(X, y)\n",
    "score = cross_val_score(model, X, y, scoring=\"accuracy\", cv=5, n_jobs=-1)\n",
    "print(score)\n",
    "# print(np.mean(score))"
   ]
  },
  {
   "cell_type": "code",
   "execution_count": 63,
   "metadata": {},
   "outputs": [
    {
     "data": {
      "text/plain": [
       "{'max_depth': 19, 'n_estimators': 100}"
      ]
     },
     "execution_count": 63,
     "metadata": {},
     "output_type": "execute_result"
    }
   ],
   "source": [
    "param = {'max_depth': np.arange(2,20), 'n_estimators': [50, 70, 100]}\n",
    "clf = GridSearchCV(model, param, scoring='accuracy', return_train_score=True)\n",
    "clf.fit(X, y)\n",
    "clf.best_params_"
   ]
  },
  {
   "cell_type": "code",
   "execution_count": 20,
   "metadata": {},
   "outputs": [],
   "source": [
    "X_repair_null = df[df['has_repair_started'].isnull()]"
   ]
  },
  {
   "cell_type": "code",
   "execution_count": 21,
   "metadata": {},
   "outputs": [
    {
     "data": {
      "text/plain": [
       "Index(['area_assesed', 'building_id', 'damage_grade', 'district_id',\n",
       "       'has_geotechnical_risk', 'has_geotechnical_risk_fault_crack',\n",
       "       'has_geotechnical_risk_flood', 'has_geotechnical_risk_land_settlement',\n",
       "       'has_geotechnical_risk_landslide', 'has_geotechnical_risk_liquefaction',\n",
       "       'has_geotechnical_risk_other', 'has_geotechnical_risk_rock_fall',\n",
       "       'has_repair_started', 'vdcmun_id', 'district_id_x', 'vdcmun_id_x',\n",
       "       'ward_id_x', 'count_floors_pre_eq', 'count_floors_post_eq',\n",
       "       'age_building', 'plinth_area_sq_ft', 'height_ft_pre_eq',\n",
       "       'height_ft_post_eq', 'land_surface_condition', 'foundation_type',\n",
       "       'roof_type', 'ground_floor_type', 'other_floor_type', 'position',\n",
       "       'plan_configuration', 'has_superstructure_adobe_mud',\n",
       "       'has_superstructure_mud_mortar_stone', 'has_superstructure_stone_flag',\n",
       "       'has_superstructure_cement_mortar_stone',\n",
       "       'has_superstructure_mud_mortar_brick',\n",
       "       'has_superstructure_cement_mortar_brick', 'has_superstructure_timber',\n",
       "       'has_superstructure_bamboo', 'has_superstructure_rc_non_engineered',\n",
       "       'has_superstructure_rc_engineered', 'has_superstructure_other',\n",
       "       'condition_post_eq', 'district_id_y', 'vdcmun_id_y', 'ward_id_y',\n",
       "       'legal_ownership_status', 'count_families', 'has_secondary_use',\n",
       "       'has_secondary_use_agriculture', 'has_secondary_use_hotel',\n",
       "       'has_secondary_use_rental', 'has_secondary_use_institution',\n",
       "       'has_secondary_use_school', 'has_secondary_use_industry',\n",
       "       'has_secondary_use_health_post', 'has_secondary_use_gov_office',\n",
       "       'has_secondary_use_use_police', 'has_secondary_use_other'],\n",
       "      dtype='object')"
      ]
     },
     "execution_count": 21,
     "metadata": {},
     "output_type": "execute_result"
    }
   ],
   "source": [
    "X_repair_null.columns"
   ]
  },
  {
   "cell_type": "code",
   "execution_count": 22,
   "metadata": {},
   "outputs": [],
   "source": [
    "preX = X_repair_null[['area_assesed', 'district_id',\n",
    "       'has_geotechnical_risk', 'has_geotechnical_risk_fault_crack',\n",
    "       'has_geotechnical_risk_flood', 'has_geotechnical_risk_land_settlement',\n",
    "       'has_geotechnical_risk_landslide', 'has_geotechnical_risk_liquefaction',\n",
    "       'has_geotechnical_risk_other', 'has_geotechnical_risk_rock_fall',\n",
    "       'vdcmun_id', 'district_id_x', 'vdcmun_id_x',\n",
    "       'ward_id_x', 'count_floors_pre_eq', 'count_floors_post_eq',\n",
    "       'age_building', 'plinth_area_sq_ft', 'height_ft_pre_eq',\n",
    "       'height_ft_post_eq', 'land_surface_condition', 'foundation_type',\n",
    "       'roof_type', 'ground_floor_type', 'other_floor_type', 'position',\n",
    "       'plan_configuration', 'has_superstructure_adobe_mud',\n",
    "       'has_superstructure_mud_mortar_stone', 'has_superstructure_stone_flag',\n",
    "       'has_superstructure_cement_mortar_stone',\n",
    "       'has_superstructure_mud_mortar_brick',\n",
    "       'has_superstructure_cement_mortar_brick', 'has_superstructure_timber',\n",
    "       'has_superstructure_bamboo', 'has_superstructure_rc_non_engineered',\n",
    "       'has_superstructure_rc_engineered', 'has_superstructure_other',\n",
    "       'condition_post_eq', 'district_id_y', 'vdcmun_id_y', 'ward_id_y',\n",
    "       'legal_ownership_status', 'count_families', 'has_secondary_use',\n",
    "       'has_secondary_use_agriculture', 'has_secondary_use_hotel',\n",
    "       'has_secondary_use_rental', 'has_secondary_use_institution',\n",
    "       'has_secondary_use_school', 'has_secondary_use_industry',\n",
    "       'has_secondary_use_health_post', 'has_secondary_use_gov_office',\n",
    "       'has_secondary_use_use_police', 'has_secondary_use_other']]"
   ]
  },
  {
   "cell_type": "code",
   "execution_count": 23,
   "metadata": {},
   "outputs": [],
   "source": [
    "out = model.predict(preX)"
   ]
  },
  {
   "cell_type": "code",
   "execution_count": 27,
   "metadata": {},
   "outputs": [
    {
     "name": "stderr",
     "output_type": "stream",
     "text": [
      "/anaconda3/lib/python3.6/site-packages/pandas/core/generic.py:4401: SettingWithCopyWarning: \n",
      "A value is trying to be set on a copy of a slice from a DataFrame.\n",
      "Try using .loc[row_indexer,col_indexer] = value instead\n",
      "\n",
      "See the caveats in the documentation: http://pandas.pydata.org/pandas-docs/stable/indexing.html#indexing-view-versus-copy\n",
      "  self[name] = value\n"
     ]
    }
   ],
   "source": [
    "X_repair_null.has_repair_started = out"
   ]
  },
  {
   "cell_type": "code",
   "execution_count": 29,
   "metadata": {},
   "outputs": [
    {
     "data": {
      "text/plain": [
       "8      0.0\n",
       "57     1.0\n",
       "63     1.0\n",
       "89     0.0\n",
       "100    0.0\n",
       "Name: has_repair_started, dtype: float64"
      ]
     },
     "execution_count": 29,
     "metadata": {},
     "output_type": "execute_result"
    }
   ],
   "source": [
    "X_repair_null.has_repair_started.head(5)"
   ]
  },
  {
   "cell_type": "code",
   "execution_count": 34,
   "metadata": {},
   "outputs": [
    {
     "data": {
      "text/plain": [
       "area_assesed                              0\n",
       "building_id                               0\n",
       "damage_grade                              0\n",
       "district_id                               0\n",
       "has_geotechnical_risk                     0\n",
       "has_geotechnical_risk_fault_crack         0\n",
       "has_geotechnical_risk_flood               0\n",
       "has_geotechnical_risk_land_settlement     0\n",
       "has_geotechnical_risk_landslide           0\n",
       "has_geotechnical_risk_liquefaction        0\n",
       "has_geotechnical_risk_other               0\n",
       "has_geotechnical_risk_rock_fall           0\n",
       "has_repair_started                        0\n",
       "vdcmun_id                                 0\n",
       "district_id_x                             0\n",
       "vdcmun_id_x                               0\n",
       "ward_id_x                                 0\n",
       "count_floors_pre_eq                       0\n",
       "count_floors_post_eq                      0\n",
       "age_building                              0\n",
       "plinth_area_sq_ft                         0\n",
       "height_ft_pre_eq                          0\n",
       "height_ft_post_eq                         0\n",
       "land_surface_condition                    0\n",
       "foundation_type                           0\n",
       "roof_type                                 0\n",
       "ground_floor_type                         0\n",
       "other_floor_type                          0\n",
       "position                                  0\n",
       "plan_configuration                        0\n",
       "has_superstructure_adobe_mud              0\n",
       "has_superstructure_mud_mortar_stone       0\n",
       "has_superstructure_stone_flag             0\n",
       "has_superstructure_cement_mortar_stone    0\n",
       "has_superstructure_mud_mortar_brick       0\n",
       "has_superstructure_cement_mortar_brick    0\n",
       "has_superstructure_timber                 0\n",
       "has_superstructure_bamboo                 0\n",
       "has_superstructure_rc_non_engineered      0\n",
       "has_superstructure_rc_engineered          0\n",
       "has_superstructure_other                  0\n",
       "condition_post_eq                         0\n",
       "district_id_y                             0\n",
       "vdcmun_id_y                               0\n",
       "ward_id_y                                 0\n",
       "legal_ownership_status                    0\n",
       "count_families                            0\n",
       "has_secondary_use                         0\n",
       "has_secondary_use_agriculture             0\n",
       "has_secondary_use_hotel                   0\n",
       "has_secondary_use_rental                  0\n",
       "has_secondary_use_institution             0\n",
       "has_secondary_use_school                  0\n",
       "has_secondary_use_industry                0\n",
       "has_secondary_use_health_post             0\n",
       "has_secondary_use_gov_office              0\n",
       "has_secondary_use_use_police              0\n",
       "has_secondary_use_other                   0\n",
       "dtype: int64"
      ]
     },
     "execution_count": 34,
     "metadata": {},
     "output_type": "execute_result"
    }
   ],
   "source": [
    "X_repair_null.isnull().sum()"
   ]
  },
  {
   "cell_type": "code",
   "execution_count": 35,
   "metadata": {},
   "outputs": [],
   "source": [
    "df1 = X_repair_null.copy()"
   ]
  },
  {
   "cell_type": "code",
   "execution_count": 36,
   "metadata": {},
   "outputs": [
    {
     "data": {
      "text/html": [
       "<div>\n",
       "<style scoped>\n",
       "    .dataframe tbody tr th:only-of-type {\n",
       "        vertical-align: middle;\n",
       "    }\n",
       "\n",
       "    .dataframe tbody tr th {\n",
       "        vertical-align: top;\n",
       "    }\n",
       "\n",
       "    .dataframe thead th {\n",
       "        text-align: right;\n",
       "    }\n",
       "</style>\n",
       "<table border=\"1\" class=\"dataframe\">\n",
       "  <thead>\n",
       "    <tr style=\"text-align: right;\">\n",
       "      <th></th>\n",
       "      <th>area_assesed</th>\n",
       "      <th>building_id</th>\n",
       "      <th>damage_grade</th>\n",
       "      <th>district_id</th>\n",
       "      <th>has_geotechnical_risk</th>\n",
       "      <th>has_geotechnical_risk_fault_crack</th>\n",
       "      <th>has_geotechnical_risk_flood</th>\n",
       "      <th>has_geotechnical_risk_land_settlement</th>\n",
       "      <th>has_geotechnical_risk_landslide</th>\n",
       "      <th>has_geotechnical_risk_liquefaction</th>\n",
       "      <th>...</th>\n",
       "      <th>has_secondary_use_agriculture</th>\n",
       "      <th>has_secondary_use_hotel</th>\n",
       "      <th>has_secondary_use_rental</th>\n",
       "      <th>has_secondary_use_institution</th>\n",
       "      <th>has_secondary_use_school</th>\n",
       "      <th>has_secondary_use_industry</th>\n",
       "      <th>has_secondary_use_health_post</th>\n",
       "      <th>has_secondary_use_gov_office</th>\n",
       "      <th>has_secondary_use_use_police</th>\n",
       "      <th>has_secondary_use_other</th>\n",
       "    </tr>\n",
       "  </thead>\n",
       "  <tbody>\n",
       "    <tr>\n",
       "      <th>8</th>\n",
       "      <td>0</td>\n",
       "      <td>1e96b58fa58</td>\n",
       "      <td>1</td>\n",
       "      <td>21</td>\n",
       "      <td>0.0</td>\n",
       "      <td>0</td>\n",
       "      <td>0</td>\n",
       "      <td>0</td>\n",
       "      <td>0</td>\n",
       "      <td>0</td>\n",
       "      <td>...</td>\n",
       "      <td>0</td>\n",
       "      <td>0</td>\n",
       "      <td>0</td>\n",
       "      <td>0</td>\n",
       "      <td>0</td>\n",
       "      <td>0</td>\n",
       "      <td>0</td>\n",
       "      <td>0</td>\n",
       "      <td>0</td>\n",
       "      <td>0</td>\n",
       "    </tr>\n",
       "    <tr>\n",
       "      <th>57</th>\n",
       "      <td>0</td>\n",
       "      <td>1c3d6a2f185e</td>\n",
       "      <td>1</td>\n",
       "      <td>31</td>\n",
       "      <td>0.0</td>\n",
       "      <td>0</td>\n",
       "      <td>0</td>\n",
       "      <td>0</td>\n",
       "      <td>0</td>\n",
       "      <td>0</td>\n",
       "      <td>...</td>\n",
       "      <td>0</td>\n",
       "      <td>0</td>\n",
       "      <td>0</td>\n",
       "      <td>0</td>\n",
       "      <td>0</td>\n",
       "      <td>0</td>\n",
       "      <td>0</td>\n",
       "      <td>0</td>\n",
       "      <td>0</td>\n",
       "      <td>0</td>\n",
       "    </tr>\n",
       "    <tr>\n",
       "      <th>63</th>\n",
       "      <td>0</td>\n",
       "      <td>2d456a90fd2</td>\n",
       "      <td>1</td>\n",
       "      <td>31</td>\n",
       "      <td>0.0</td>\n",
       "      <td>0</td>\n",
       "      <td>0</td>\n",
       "      <td>0</td>\n",
       "      <td>0</td>\n",
       "      <td>0</td>\n",
       "      <td>...</td>\n",
       "      <td>0</td>\n",
       "      <td>0</td>\n",
       "      <td>0</td>\n",
       "      <td>0</td>\n",
       "      <td>0</td>\n",
       "      <td>0</td>\n",
       "      <td>0</td>\n",
       "      <td>0</td>\n",
       "      <td>0</td>\n",
       "      <td>0</td>\n",
       "    </tr>\n",
       "    <tr>\n",
       "      <th>89</th>\n",
       "      <td>0</td>\n",
       "      <td>2d6ad13c9cf</td>\n",
       "      <td>1</td>\n",
       "      <td>31</td>\n",
       "      <td>0.0</td>\n",
       "      <td>0</td>\n",
       "      <td>0</td>\n",
       "      <td>0</td>\n",
       "      <td>0</td>\n",
       "      <td>0</td>\n",
       "      <td>...</td>\n",
       "      <td>0</td>\n",
       "      <td>0</td>\n",
       "      <td>0</td>\n",
       "      <td>0</td>\n",
       "      <td>0</td>\n",
       "      <td>0</td>\n",
       "      <td>0</td>\n",
       "      <td>0</td>\n",
       "      <td>0</td>\n",
       "      <td>0</td>\n",
       "    </tr>\n",
       "    <tr>\n",
       "      <th>100</th>\n",
       "      <td>0</td>\n",
       "      <td>2da2bbe2cef</td>\n",
       "      <td>1</td>\n",
       "      <td>31</td>\n",
       "      <td>0.0</td>\n",
       "      <td>0</td>\n",
       "      <td>0</td>\n",
       "      <td>0</td>\n",
       "      <td>0</td>\n",
       "      <td>0</td>\n",
       "      <td>...</td>\n",
       "      <td>0</td>\n",
       "      <td>0</td>\n",
       "      <td>0</td>\n",
       "      <td>0</td>\n",
       "      <td>0</td>\n",
       "      <td>0</td>\n",
       "      <td>0</td>\n",
       "      <td>0</td>\n",
       "      <td>0</td>\n",
       "      <td>0</td>\n",
       "    </tr>\n",
       "  </tbody>\n",
       "</table>\n",
       "<p>5 rows × 58 columns</p>\n",
       "</div>"
      ],
      "text/plain": [
       "     area_assesed   building_id  damage_grade  district_id  \\\n",
       "8               0   1e96b58fa58             1           21   \n",
       "57              0  1c3d6a2f185e             1           31   \n",
       "63              0   2d456a90fd2             1           31   \n",
       "89              0   2d6ad13c9cf             1           31   \n",
       "100             0   2da2bbe2cef             1           31   \n",
       "\n",
       "     has_geotechnical_risk  has_geotechnical_risk_fault_crack  \\\n",
       "8                      0.0                                  0   \n",
       "57                     0.0                                  0   \n",
       "63                     0.0                                  0   \n",
       "89                     0.0                                  0   \n",
       "100                    0.0                                  0   \n",
       "\n",
       "     has_geotechnical_risk_flood  has_geotechnical_risk_land_settlement  \\\n",
       "8                              0                                      0   \n",
       "57                             0                                      0   \n",
       "63                             0                                      0   \n",
       "89                             0                                      0   \n",
       "100                            0                                      0   \n",
       "\n",
       "     has_geotechnical_risk_landslide  has_geotechnical_risk_liquefaction  \\\n",
       "8                                  0                                   0   \n",
       "57                                 0                                   0   \n",
       "63                                 0                                   0   \n",
       "89                                 0                                   0   \n",
       "100                                0                                   0   \n",
       "\n",
       "              ...             has_secondary_use_agriculture  \\\n",
       "8             ...                                         0   \n",
       "57            ...                                         0   \n",
       "63            ...                                         0   \n",
       "89            ...                                         0   \n",
       "100           ...                                         0   \n",
       "\n",
       "     has_secondary_use_hotel  has_secondary_use_rental  \\\n",
       "8                          0                         0   \n",
       "57                         0                         0   \n",
       "63                         0                         0   \n",
       "89                         0                         0   \n",
       "100                        0                         0   \n",
       "\n",
       "     has_secondary_use_institution  has_secondary_use_school  \\\n",
       "8                                0                         0   \n",
       "57                               0                         0   \n",
       "63                               0                         0   \n",
       "89                               0                         0   \n",
       "100                              0                         0   \n",
       "\n",
       "     has_secondary_use_industry  has_secondary_use_health_post  \\\n",
       "8                             0                              0   \n",
       "57                            0                              0   \n",
       "63                            0                              0   \n",
       "89                            0                              0   \n",
       "100                           0                              0   \n",
       "\n",
       "     has_secondary_use_gov_office  has_secondary_use_use_police  \\\n",
       "8                               0                             0   \n",
       "57                              0                             0   \n",
       "63                              0                             0   \n",
       "89                              0                             0   \n",
       "100                             0                             0   \n",
       "\n",
       "     has_secondary_use_other  \n",
       "8                          0  \n",
       "57                         0  \n",
       "63                         0  \n",
       "89                         0  \n",
       "100                        0  \n",
       "\n",
       "[5 rows x 58 columns]"
      ]
     },
     "execution_count": 36,
     "metadata": {},
     "output_type": "execute_result"
    }
   ],
   "source": [
    "df1.head(5)"
   ]
  },
  {
   "cell_type": "code",
   "execution_count": 115,
   "metadata": {},
   "outputs": [],
   "source": [
    "df.building_id = df.building_id.apply(lambda x: int(x, 16))"
   ]
  },
  {
   "cell_type": "code",
   "execution_count": 133,
   "metadata": {},
   "outputs": [
    {
     "data": {
      "text/html": [
       "<div>\n",
       "<style scoped>\n",
       "    .dataframe tbody tr th:only-of-type {\n",
       "        vertical-align: middle;\n",
       "    }\n",
       "\n",
       "    .dataframe tbody tr th {\n",
       "        vertical-align: top;\n",
       "    }\n",
       "\n",
       "    .dataframe thead th {\n",
       "        text-align: right;\n",
       "    }\n",
       "</style>\n",
       "<table border=\"1\" class=\"dataframe\">\n",
       "  <thead>\n",
       "    <tr style=\"text-align: right;\">\n",
       "      <th></th>\n",
       "      <th>area_assesed</th>\n",
       "      <th>building_id</th>\n",
       "      <th>damage_grade</th>\n",
       "      <th>district_id</th>\n",
       "      <th>has_geotechnical_risk</th>\n",
       "      <th>has_geotechnical_risk_fault_crack</th>\n",
       "      <th>has_geotechnical_risk_flood</th>\n",
       "      <th>has_geotechnical_risk_land_settlement</th>\n",
       "      <th>has_geotechnical_risk_landslide</th>\n",
       "      <th>has_geotechnical_risk_liquefaction</th>\n",
       "      <th>...</th>\n",
       "      <th>has_secondary_use_agriculture</th>\n",
       "      <th>has_secondary_use_hotel</th>\n",
       "      <th>has_secondary_use_rental</th>\n",
       "      <th>has_secondary_use_institution</th>\n",
       "      <th>has_secondary_use_school</th>\n",
       "      <th>has_secondary_use_industry</th>\n",
       "      <th>has_secondary_use_health_post</th>\n",
       "      <th>has_secondary_use_gov_office</th>\n",
       "      <th>has_secondary_use_use_police</th>\n",
       "      <th>has_secondary_use_other</th>\n",
       "    </tr>\n",
       "  </thead>\n",
       "  <tbody>\n",
       "    <tr>\n",
       "      <th>0</th>\n",
       "      <td>0</td>\n",
       "      <td>2489030005410</td>\n",
       "      <td>4</td>\n",
       "      <td>24</td>\n",
       "      <td>0.0</td>\n",
       "      <td>0</td>\n",
       "      <td>0</td>\n",
       "      <td>0</td>\n",
       "      <td>0</td>\n",
       "      <td>0</td>\n",
       "      <td>...</td>\n",
       "      <td>0</td>\n",
       "      <td>0</td>\n",
       "      <td>0</td>\n",
       "      <td>0</td>\n",
       "      <td>0</td>\n",
       "      <td>0</td>\n",
       "      <td>0</td>\n",
       "      <td>0</td>\n",
       "      <td>0</td>\n",
       "      <td>0</td>\n",
       "    </tr>\n",
       "  </tbody>\n",
       "</table>\n",
       "<p>1 rows × 58 columns</p>\n",
       "</div>"
      ],
      "text/plain": [
       "   area_assesed    building_id  damage_grade  district_id  \\\n",
       "0             0  2489030005410             4           24   \n",
       "\n",
       "   has_geotechnical_risk  has_geotechnical_risk_fault_crack  \\\n",
       "0                    0.0                                  0   \n",
       "\n",
       "   has_geotechnical_risk_flood  has_geotechnical_risk_land_settlement  \\\n",
       "0                            0                                      0   \n",
       "\n",
       "   has_geotechnical_risk_landslide  has_geotechnical_risk_liquefaction  \\\n",
       "0                                0                                   0   \n",
       "\n",
       "            ...             has_secondary_use_agriculture  \\\n",
       "0           ...                                         0   \n",
       "\n",
       "   has_secondary_use_hotel  has_secondary_use_rental  \\\n",
       "0                        0                         0   \n",
       "\n",
       "   has_secondary_use_institution  has_secondary_use_school  \\\n",
       "0                              0                         0   \n",
       "\n",
       "   has_secondary_use_industry  has_secondary_use_health_post  \\\n",
       "0                           0                              0   \n",
       "\n",
       "   has_secondary_use_gov_office  has_secondary_use_use_police  \\\n",
       "0                             0                             0   \n",
       "\n",
       "   has_secondary_use_other  \n",
       "0                        0  \n",
       "\n",
       "[1 rows x 58 columns]"
      ]
     },
     "execution_count": 133,
     "metadata": {},
     "output_type": "execute_result"
    }
   ],
   "source": [
    "df.head(1)"
   ]
  },
  {
   "cell_type": "markdown",
   "metadata": {},
   "source": [
    "## Model"
   ]
  },
  {
   "cell_type": "code",
   "execution_count": 124,
   "metadata": {},
   "outputs": [
    {
     "data": {
      "text/plain": [
       "Index(['area_assesed', 'building_id', 'district_id', 'has_geotechnical_risk',\n",
       "       'has_geotechnical_risk_fault_crack', 'has_geotechnical_risk_flood',\n",
       "       'has_geotechnical_risk_land_settlement',\n",
       "       'has_geotechnical_risk_landslide', 'has_geotechnical_risk_liquefaction',\n",
       "       'has_geotechnical_risk_other', 'has_geotechnical_risk_rock_fall',\n",
       "       'has_repair_started', 'vdcmun_id', 'district_id_x', 'vdcmun_id_x',\n",
       "       'ward_id_x', 'count_floors_pre_eq', 'count_floors_post_eq',\n",
       "       'age_building', 'plinth_area_sq_ft', 'height_ft_pre_eq',\n",
       "       'height_ft_post_eq', 'land_surface_condition', 'foundation_type',\n",
       "       'roof_type', 'ground_floor_type', 'other_floor_type', 'position',\n",
       "       'plan_configuration', 'has_superstructure_adobe_mud',\n",
       "       'has_superstructure_mud_mortar_stone', 'has_superstructure_stone_flag',\n",
       "       'has_superstructure_cement_mortar_stone',\n",
       "       'has_superstructure_mud_mortar_brick',\n",
       "       'has_superstructure_cement_mortar_brick', 'has_superstructure_timber',\n",
       "       'has_superstructure_bamboo', 'has_superstructure_rc_non_engineered',\n",
       "       'has_superstructure_rc_engineered', 'has_superstructure_other',\n",
       "       'condition_post_eq', 'district_id_y', 'vdcmun_id_y', 'ward_id_y',\n",
       "       'legal_ownership_status', 'count_families', 'has_secondary_use',\n",
       "       'has_secondary_use_agriculture', 'has_secondary_use_hotel',\n",
       "       'has_secondary_use_rental', 'has_secondary_use_institution',\n",
       "       'has_secondary_use_school', 'has_secondary_use_industry',\n",
       "       'has_secondary_use_health_post', 'has_secondary_use_gov_office',\n",
       "       'has_secondary_use_use_police', 'has_secondary_use_other'],\n",
       "      dtype='object')"
      ]
     },
     "execution_count": 124,
     "metadata": {},
     "output_type": "execute_result"
    }
   ],
   "source": [
    "df_test.columns"
   ]
  },
  {
   "cell_type": "code",
   "execution_count": 122,
   "metadata": {},
   "outputs": [],
   "source": [
    "df_test.has_repair_started.fillna(1, inplace=True)"
   ]
  },
  {
   "cell_type": "code",
   "execution_count": 131,
   "metadata": {},
   "outputs": [],
   "source": [
    "df_test.building_id = df_test.building_id.apply(lambda x: int(x, 16))"
   ]
  },
  {
   "cell_type": "code",
   "execution_count": 119,
   "metadata": {},
   "outputs": [],
   "source": [
    "df_test.area_assesed = df_test.area_assesed.map(area.get)\n",
    "df_test.land_surface_condition = df_test.land_surface_condition.map(land.get)\n",
    "df_test.foundation_type = df_test.foundation_type.map(foundation.get)\n",
    "df_test.roof_type = df_test.roof_type.map(roof.get)\n",
    "df_test.ground_floor_type = df_test.ground_floor_type.map(grnd_floor.get)\n",
    "df_test.other_floor_type = df_test.other_floor_type.map(other_floor.get)\n",
    "df_test.position = df_test.position.map(pos.get)\n",
    "df_test.plan_configuration = df_test.plan_configuration.map(plan.get)\n",
    "df_test.condition_post_eq = df_test.condition_post_eq.map(condition.get)\n",
    "df_test.legal_ownership_status = df_test.legal_ownership_status.map(legal.get)"
   ]
  },
  {
   "cell_type": "code",
   "execution_count": 65,
   "metadata": {},
   "outputs": [
    {
     "name": "stdout",
     "output_type": "stream",
     "text": [
      "[0.9895288  0.99012567 0.99072412 0.9905731  0.98997156]\n"
     ]
    }
   ],
   "source": [
    "model_train = RandomForestClassifier(max_depth=19, n_estimators=100)\n",
    "model_train.fit(X_train, y_train)\n",
    "score = cross_val_score(model, X_train, y_train, scoring=\"accuracy\", cv=5, n_jobs=-1)\n",
    "print(score)"
   ]
  },
  {
   "cell_type": "markdown",
   "metadata": {},
   "source": [
    "## Test"
   ]
  },
  {
   "cell_type": "code",
   "execution_count": 72,
   "metadata": {},
   "outputs": [],
   "source": [
    "df_test.area_assesed = df_test.area_assesed.map(area.get)\n",
    "df_test.land_surface_condition = df_test.land_surface_condition.map(land.get)\n",
    "df_test.foundation_type = df_test.foundation_type.map(foundation.get)\n",
    "df_test.roof_type = df_test.roof_type.map(roof.get)\n",
    "df_test.ground_floor_type = df_test.ground_floor_type.map(grnd_floor.get)\n",
    "df_test.other_floor_type = df_test.other_floor_type.map(other_floor.get)\n",
    "df_test.position = df_test.position.map(pos.get)\n",
    "df_test.plan_configuration = df_test.plan_configuration.map(plan.get)\n",
    "df_test.condition_post_eq = df_test.condition_post_eq.map(condition.get)\n",
    "df_test.legal_ownership_status = df_test.legal_ownership_status.map(legal.get)"
   ]
  },
  {
   "cell_type": "code",
   "execution_count": 126,
   "metadata": {},
   "outputs": [
    {
     "data": {
      "text/plain": [
       "area_assesed                              0\n",
       "building_id                               0\n",
       "district_id                               0\n",
       "has_geotechnical_risk                     0\n",
       "has_geotechnical_risk_fault_crack         0\n",
       "has_geotechnical_risk_flood               0\n",
       "has_geotechnical_risk_land_settlement     0\n",
       "has_geotechnical_risk_landslide           0\n",
       "has_geotechnical_risk_liquefaction        0\n",
       "has_geotechnical_risk_other               0\n",
       "has_geotechnical_risk_rock_fall           0\n",
       "has_repair_started                        0\n",
       "vdcmun_id                                 0\n",
       "district_id_x                             0\n",
       "vdcmun_id_x                               0\n",
       "ward_id_x                                 0\n",
       "count_floors_pre_eq                       0\n",
       "count_floors_post_eq                      0\n",
       "age_building                              0\n",
       "plinth_area_sq_ft                         0\n",
       "height_ft_pre_eq                          0\n",
       "height_ft_post_eq                         0\n",
       "land_surface_condition                    0\n",
       "foundation_type                           0\n",
       "roof_type                                 0\n",
       "ground_floor_type                         0\n",
       "other_floor_type                          0\n",
       "position                                  0\n",
       "plan_configuration                        0\n",
       "has_superstructure_adobe_mud              0\n",
       "has_superstructure_mud_mortar_stone       0\n",
       "has_superstructure_stone_flag             0\n",
       "has_superstructure_cement_mortar_stone    0\n",
       "has_superstructure_mud_mortar_brick       0\n",
       "has_superstructure_cement_mortar_brick    0\n",
       "has_superstructure_timber                 0\n",
       "has_superstructure_bamboo                 0\n",
       "has_superstructure_rc_non_engineered      0\n",
       "has_superstructure_rc_engineered          0\n",
       "has_superstructure_other                  0\n",
       "condition_post_eq                         0\n",
       "district_id_y                             0\n",
       "vdcmun_id_y                               0\n",
       "ward_id_y                                 0\n",
       "legal_ownership_status                    0\n",
       "count_families                            0\n",
       "has_secondary_use                         0\n",
       "has_secondary_use_agriculture             0\n",
       "has_secondary_use_hotel                   0\n",
       "has_secondary_use_rental                  0\n",
       "has_secondary_use_institution             0\n",
       "has_secondary_use_school                  0\n",
       "has_secondary_use_industry                0\n",
       "has_secondary_use_health_post             0\n",
       "has_secondary_use_gov_office              0\n",
       "has_secondary_use_use_police              0\n",
       "has_secondary_use_other                   0\n",
       "dtype: int64"
      ]
     },
     "execution_count": 126,
     "metadata": {},
     "output_type": "execute_result"
    }
   ],
   "source": [
    "df_test.isnull().sum()"
   ]
  },
  {
   "cell_type": "code",
   "execution_count": 127,
   "metadata": {},
   "outputs": [
    {
     "data": {
      "text/plain": [
       "Index(['area_assesed', 'building_id', 'district_id', 'has_geotechnical_risk',\n",
       "       'has_geotechnical_risk_fault_crack', 'has_geotechnical_risk_flood',\n",
       "       'has_geotechnical_risk_land_settlement',\n",
       "       'has_geotechnical_risk_landslide', 'has_geotechnical_risk_liquefaction',\n",
       "       'has_geotechnical_risk_other', 'has_geotechnical_risk_rock_fall',\n",
       "       'has_repair_started', 'vdcmun_id', 'district_id_x', 'vdcmun_id_x',\n",
       "       'ward_id_x', 'count_floors_pre_eq', 'count_floors_post_eq',\n",
       "       'age_building', 'plinth_area_sq_ft', 'height_ft_pre_eq',\n",
       "       'height_ft_post_eq', 'land_surface_condition', 'foundation_type',\n",
       "       'roof_type', 'ground_floor_type', 'other_floor_type', 'position',\n",
       "       'plan_configuration', 'has_superstructure_adobe_mud',\n",
       "       'has_superstructure_mud_mortar_stone', 'has_superstructure_stone_flag',\n",
       "       'has_superstructure_cement_mortar_stone',\n",
       "       'has_superstructure_mud_mortar_brick',\n",
       "       'has_superstructure_cement_mortar_brick', 'has_superstructure_timber',\n",
       "       'has_superstructure_bamboo', 'has_superstructure_rc_non_engineered',\n",
       "       'has_superstructure_rc_engineered', 'has_superstructure_other',\n",
       "       'condition_post_eq', 'district_id_y', 'vdcmun_id_y', 'ward_id_y',\n",
       "       'legal_ownership_status', 'count_families', 'has_secondary_use',\n",
       "       'has_secondary_use_agriculture', 'has_secondary_use_hotel',\n",
       "       'has_secondary_use_rental', 'has_secondary_use_institution',\n",
       "       'has_secondary_use_school', 'has_secondary_use_industry',\n",
       "       'has_secondary_use_health_post', 'has_secondary_use_gov_office',\n",
       "       'has_secondary_use_use_police', 'has_secondary_use_other'],\n",
       "      dtype='object')"
      ]
     },
     "execution_count": 127,
     "metadata": {},
     "output_type": "execute_result"
    }
   ],
   "source": [
    "df_test.columns"
   ]
  },
  {
   "cell_type": "code",
   "execution_count": 128,
   "metadata": {},
   "outputs": [],
   "source": [
    "df1 = df_test[['area_assesed', 'district_id', 'has_geotechnical_risk',\n",
    "       'has_geotechnical_risk_fault_crack', 'has_geotechnical_risk_flood',\n",
    "       'has_geotechnical_risk_land_settlement',\n",
    "       'has_geotechnical_risk_landslide', 'has_geotechnical_risk_liquefaction',\n",
    "       'has_geotechnical_risk_other', 'has_geotechnical_risk_rock_fall',\n",
    "       'has_repair_started', 'vdcmun_id', 'district_id_x', 'vdcmun_id_x',\n",
    "       'ward_id_x', 'count_floors_pre_eq', 'count_floors_post_eq',\n",
    "       'age_building', 'plinth_area_sq_ft', 'height_ft_pre_eq',\n",
    "       'height_ft_post_eq', 'land_surface_condition', 'foundation_type',\n",
    "       'roof_type', 'ground_floor_type', 'other_floor_type', 'position',\n",
    "       'plan_configuration', 'has_superstructure_adobe_mud',\n",
    "       'has_superstructure_mud_mortar_stone', 'has_superstructure_stone_flag',\n",
    "       'has_superstructure_cement_mortar_stone',\n",
    "       'has_superstructure_mud_mortar_brick',\n",
    "       'has_superstructure_cement_mortar_brick', 'has_superstructure_timber',\n",
    "       'has_superstructure_bamboo', 'has_superstructure_rc_non_engineered',\n",
    "       'has_superstructure_rc_engineered', 'has_superstructure_other',\n",
    "       'condition_post_eq', 'district_id_y', 'vdcmun_id_y', 'ward_id_y',\n",
    "       'legal_ownership_status', 'count_families', 'has_secondary_use',\n",
    "       'has_secondary_use_agriculture', 'has_secondary_use_hotel',\n",
    "       'has_secondary_use_rental', 'has_secondary_use_institution',\n",
    "       'has_secondary_use_school', 'has_secondary_use_industry',\n",
    "       'has_secondary_use_health_post', 'has_secondary_use_gov_office',\n",
    "       'has_secondary_use_use_police', 'has_secondary_use_other']]"
   ]
  },
  {
   "cell_type": "code",
   "execution_count": 132,
   "metadata": {},
   "outputs": [],
   "source": [
    "try:\n",
    "    with open('output_repairLogic.csv', 'w') as csvfp:\n",
    "        wr = csv.writer(csvfp)\n",
    "        for i in range(len(df1)):\n",
    "#             print([format(df.building_id[i], 'x'), 'Grade '+str(model_train.predict([df1.iloc[i]])[0])])\n",
    "            wr.writerow([format(df_test.building_id[i], 'x'), 'Grade '+str(model_train.predict([df1.iloc[i]])[0])])\n",
    "#             break\n",
    "except Exception as ex:\n",
    "    print(ex)\n",
    "finally:\n",
    "    csvfp.close()"
   ]
  },
  {
   "cell_type": "code",
   "execution_count": null,
   "metadata": {},
   "outputs": [],
   "source": []
  }
 ],
 "metadata": {
  "kernelspec": {
   "display_name": "Python 3",
   "language": "python",
   "name": "python3"
  },
  "language_info": {
   "codemirror_mode": {
    "name": "ipython",
    "version": 3
   },
   "file_extension": ".py",
   "mimetype": "text/x-python",
   "name": "python",
   "nbconvert_exporter": "python",
   "pygments_lexer": "ipython3",
   "version": "3.6.5"
  }
 },
 "nbformat": 4,
 "nbformat_minor": 2
}
